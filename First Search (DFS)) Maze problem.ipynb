{
  "nbformat": 4,
  "nbformat_minor": 0,
  "metadata": {
    "colab": {
      "provenance": []
    },
    "kernelspec": {
      "name": "python3",
      "display_name": "Python 3"
    },
    "language_info": {
      "name": "python"
    }
  },
  "cells": [
    {
      "cell_type": "code",
      "execution_count": 3,
      "metadata": {
        "colab": {
          "base_uri": "https://localhost:8080/"
        },
        "id": "3f74beSiLa5Y",
        "outputId": "da6f1964-e556-46cb-ad2f-261f99fb1306"
      },
      "outputs": [
        {
          "output_type": "stream",
          "name": "stdout",
          "text": [
            "Path found\n"
          ]
        }
      ],
      "source": [
        "def dfs(maze, start, end):\n",
        "    \"\"\"\n",
        "    Solves a maze using Depth-First Search.\n",
        "\n",
        "    Args:\n",
        "        maze: A 2D list representing the maze.\n",
        "        start: A tuple (row, col) representing the start position.\n",
        "        end: A tuple (row, col) representing the end position.\n",
        "\n",
        "    Returns:\n",
        "        A boolean indicating whether a path was found.\n",
        "    \"\"\"\n",
        "\n",
        "    rows, cols = len(maze), len(maze[0])\n",
        "    visited = [[False] * cols for _ in range(rows)]\n",
        "\n",
        "    def dfs_util(row, col):\n",
        "        if row < 0 or row >= rows or col < 0 or col >= cols or maze[row][col] == 0 or visited[row][col]:\n",
        "            return False\n",
        "\n",
        "        visited[row][col] = True\n",
        "\n",
        "        if (row, col) == end:\n",
        "            return True\n",
        "\n",
        "        # Explore all four directions\n",
        "        if dfs_util(row - 1, col) or dfs_util(row + 1, col) or dfs_util(row, col - 1) or dfs_util(row, col + 1):\n",
        "            return True\n",
        "\n",
        "        return False\n",
        "\n",
        "    return dfs_util(start[0], start[1])\n",
        "\n",
        "# Example usage\n",
        "maze = [\n",
        "    [1, 0, 1, 1, 1],\n",
        "    [1, 1, 1, 0, 1],\n",
        "    [0, 1, 0, 0, 1],\n",
        "    [1, 1, 1, 1, 1]\n",
        "]\n",
        "\n",
        "start = (0, 0)\n",
        "end = (3, 4)\n",
        "\n",
        "if dfs(maze, start, end):\n",
        "    print(\"Path found\")\n",
        "else:\n",
        "    print(\"Path not found\")"
      ]
    }
  ]
}